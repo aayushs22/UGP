{
 "cells": [
  {
   "cell_type": "code",
   "execution_count": null,
   "id": "9e91a61c",
   "metadata": {},
   "outputs": [
    {
     "name": "stderr",
     "output_type": "stream",
     "text": [
      "c:\\Users\\Lenovo\\AppData\\Local\\Programs\\Python\\Python312\\Lib\\site-packages\\anndata\\_core\\anndata.py:1793: UserWarning: Variable names are not unique. To make them unique, call `.var_names_make_unique`.\n",
      "  utils.warn_names_duplicates(\"var\")\n"
     ]
    }
   ],
   "source": [
    "import anndata\n",
    "import numpy as np\n",
    "prefix = \"../data/raw\"\n",
    "vi = anndata.read_h5ad(f\"{prefix}/brca-vi.h5ad\")\n",
    "xe = anndata.read_h5ad(f\"{prefix}/brca-xe.h5ad\")\n",
    "R = np.load(f\"{prefix}/brca-R.npy\")"
   ]
  },
  {
   "cell_type": "code",
   "execution_count": 32,
   "id": "0110ad3e",
   "metadata": {},
   "outputs": [
    {
     "data": {
      "text/plain": [
       "<Compressed Sparse Row sparse matrix of dtype 'float32'\n",
       "\twith 29737138 stored elements and shape (4992, 18085)>"
      ]
     },
     "execution_count": 32,
     "metadata": {},
     "output_type": "execute_result"
    }
   ],
   "source": [
    "vi.X"
   ]
  },
  {
   "cell_type": "code",
   "execution_count": null,
   "id": "b581b26d",
   "metadata": {},
   "outputs": [],
   "source": [
    "for j in range (18085) :\n",
    "    if(vi.X[0,j] != 0.0): print(vi.X[0,j])\n",
    "\n",
    "# vi.X[0,2]"
   ]
  },
  {
   "cell_type": "code",
   "execution_count": null,
   "id": "99717112",
   "metadata": {},
   "outputs": [
    {
     "data": {
      "text/plain": [
       "SAMD11     ENSG00000187634\n",
       "NOC2L      ENSG00000188976\n",
       "KLHL17     ENSG00000187961\n",
       "PLEKHN1    ENSG00000187583\n",
       "PERM1      ENSG00000187642\n",
       "                ...       \n",
       "MT-ND4L    ENSG00000212907\n",
       "MT-ND4     ENSG00000198886\n",
       "MT-ND5     ENSG00000198786\n",
       "MT-ND6     ENSG00000198695\n",
       "MT-CYB     ENSG00000198727\n",
       "Name: gene_ids, Length: 18085, dtype: object"
      ]
     },
     "execution_count": 23,
     "metadata": {},
     "output_type": "execute_result"
    }
   ],
   "source": [
    "vi.var['gene_ids']\n"
   ]
  },
  {
   "cell_type": "code",
   "execution_count": 5,
   "id": "2514615f",
   "metadata": {},
   "outputs": [
    {
     "data": {
      "text/plain": [
       "array([[2357.24249778, 2100.4678081 ],\n",
       "       [8460.85314131, 6790.54649653],\n",
       "       [6135.64392165, 4497.37055498],\n",
       "       ...,\n",
       "       [3382.81586233, 5311.93105573],\n",
       "       [6288.691806  , 5612.9421771 ],\n",
       "       [5348.0320517 , 1891.48880323]], shape=(4992, 2))"
      ]
     },
     "execution_count": 5,
     "metadata": {},
     "output_type": "execute_result"
    }
   ],
   "source": [
    "vi.obsm['spatial']"
   ]
  },
  {
   "cell_type": "code",
   "execution_count": null,
   "id": "575bd550",
   "metadata": {},
   "outputs": [],
   "source": [
    "\n",
    "\n"
   ]
  },
  {
   "cell_type": "code",
   "execution_count": 38,
   "id": "2fdfae0d",
   "metadata": {},
   "outputs": [
    {
     "data": {
      "text/plain": [
       "ABCC11    ENSG00000121270\n",
       "ACTA2     ENSG00000107796\n",
       "ACTG2     ENSG00000163017\n",
       "ADAM9     ENSG00000168615\n",
       "ADGRE5    ENSG00000123146\n",
       "               ...       \n",
       "VWF       ENSG00000110799\n",
       "WARS      ENSG00000140105\n",
       "ZEB1      ENSG00000148516\n",
       "ZEB2      ENSG00000169554\n",
       "ZNF562    ENSG00000171466\n",
       "Name: gene_ids, Length: 313, dtype: object"
      ]
     },
     "execution_count": 38,
     "metadata": {},
     "output_type": "execute_result"
    }
   ],
   "source": [
    "xe.var['gene_ids']"
   ]
  }
 ],
 "metadata": {
  "kernelspec": {
   "display_name": "Python 3",
   "language": "python",
   "name": "python3"
  },
  "language_info": {
   "codemirror_mode": {
    "name": "ipython",
    "version": 3
   },
   "file_extension": ".py",
   "mimetype": "text/x-python",
   "name": "python",
   "nbconvert_exporter": "python",
   "pygments_lexer": "ipython3",
   "version": "3.12.4"
  }
 },
 "nbformat": 4,
 "nbformat_minor": 5
}
